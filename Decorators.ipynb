{
 "cells": [
  {
   "cell_type": "markdown",
   "metadata": {},
   "source": [
    "# Decorators: The Basics\n",
    "(Notebook built on Sebastiaan Mathôt's YouTube tutorials on decorators)"
   ]
  },
  {
   "cell_type": "markdown",
   "metadata": {},
   "source": [
    "## Simple example"
   ]
  },
  {
   "cell_type": "code",
   "execution_count": 8,
   "metadata": {},
   "outputs": [],
   "source": [
    "def my_decorator(func):\n",
    "    ''' Dummy decorator '''\n",
    "    return bar\n",
    "\n",
    "def foo():\n",
    "    print('Hello from foo')\n",
    "    \n",
    "def bar():\n",
    "    print('Hello from bar')"
   ]
  },
  {
   "cell_type": "markdown",
   "metadata": {},
   "source": [
    "Explicit decoration:"
   ]
  },
  {
   "cell_type": "code",
   "execution_count": 6,
   "metadata": {},
   "outputs": [],
   "source": [
    "foo = my_decorator(foo)"
   ]
  },
  {
   "cell_type": "markdown",
   "metadata": {},
   "source": [
    "Using @ syntax:"
   ]
  },
  {
   "cell_type": "code",
   "execution_count": 10,
   "metadata": {},
   "outputs": [],
   "source": [
    "@my_decorator\n",
    "def lol():\n",
    "    print('Hello from lol')"
   ]
  },
  {
   "cell_type": "code",
   "execution_count": 11,
   "metadata": {},
   "outputs": [
    {
     "name": "stdout",
     "output_type": "stream",
     "text": [
      "Hello from bar\n",
      "Hello from bar\n"
     ]
    },
    {
     "data": {
      "text/plain": [
       "(None, None)"
      ]
     },
     "execution_count": 11,
     "metadata": {},
     "output_type": "execute_result"
    }
   ],
   "source": [
    "foo(), lol()"
   ]
  },
  {
   "cell_type": "markdown",
   "metadata": {},
   "source": [
    "## Realistic Example\n",
    "Here we have a more realistic example of how a decorator looks like. It is important to note that **the use of a decorator yields a new function, overriding the first definition**. To see this, inspect both *snake_to_camelcase* and *snake_to_camelcase_m* docstrings."
   ]
  },
  {
   "cell_type": "code",
   "execution_count": 32,
   "metadata": {},
   "outputs": [],
   "source": [
    "def mapper(function):\n",
    "    ''' A more realistic example of how a decorator should be used. '''\n",
    "    def inner(list_of_values):\n",
    "        ''' Inner docstring '''\n",
    "        return [function(value) for value in list_of_values]\n",
    "    return inner\n",
    "\n",
    "@mapper\n",
    "def snake_to_camelcase_m(s):\n",
    "    '''Takes a snakecase string and replaces it by a camelcase version.'''\n",
    "    return ''.join([word.capitalize() for word in s.split('_')])\n",
    "\n",
    "def snake_to_camelcase(s):\n",
    "    '''Takes a snakecase string and replaces it by a camelcase version.'''\n",
    "    return ''.join([word.capitalize() for word in s.split('_')])"
   ]
  },
  {
   "cell_type": "code",
   "execution_count": 33,
   "metadata": {},
   "outputs": [
    {
     "data": {
      "text/plain": [
       "'ThisAintEvenMyFinalForm'"
      ]
     },
     "execution_count": 33,
     "metadata": {},
     "output_type": "execute_result"
    }
   ],
   "source": [
    "snake_to_camelcase('this_aint_even_my_final_form')"
   ]
  },
  {
   "cell_type": "code",
   "execution_count": 34,
   "metadata": {},
   "outputs": [
    {
     "data": {
      "text/plain": [
       "['HelloWorld', 'MyFunc', 'SnoopDogg']"
      ]
     },
     "execution_count": 34,
     "metadata": {},
     "output_type": "execute_result"
    }
   ],
   "source": [
    "names = [ 'hello_world', 'my_func', 'snoop_dogg' ]\n",
    "snake_to_camelcase_m(names)"
   ]
  },
  {
   "cell_type": "code",
   "execution_count": 37,
   "metadata": {},
   "outputs": [
    {
     "name": "stdout",
     "output_type": "stream",
     "text": [
      "UNDECORATED: Takes a snakecase string and replaces it by a camelcase version.\n",
      "DECORATED:  Inner docstring \n"
     ]
    }
   ],
   "source": [
    "print('UNDECORATED:', snake_to_camelcase.__doc__)\n",
    "print('DECORATED:', snake_to_camelcase_m.__doc__)"
   ]
  },
  {
   "cell_type": "markdown",
   "metadata": {},
   "source": [
    "### How to avoid this unwanted behaviour?\n",
    "The **functools** module contains a decorator called **wraps** which allows to keep the docstring and other import properties (which I don't now of yet)."
   ]
  },
  {
   "cell_type": "code",
   "execution_count": 38,
   "metadata": {},
   "outputs": [],
   "source": [
    "from functools import wraps"
   ]
  },
  {
   "cell_type": "code",
   "execution_count": 39,
   "metadata": {},
   "outputs": [],
   "source": [
    "def normal_mapper(function):\n",
    "    ''' A more realistic example of how a decorator should be used. '''\n",
    "    def inner(list_of_values):\n",
    "        ''' Inner docstring '''\n",
    "        return [function(value) for value in list_of_values]\n",
    "    return inner\n",
    "\n",
    "def functools_mapper(function):\n",
    "    ''' Using functools.wrap to preserve the docstring '''\n",
    "    @wraps(function)\n",
    "    def inner(list_of_values):\n",
    "        ''' Inner docstring '''\n",
    "        return [function(value) for value in list_of_values]\n",
    "    return inner\n",
    "\n",
    "@normal_mapper\n",
    "def snake_to_camelcase_n(s):\n",
    "    '''Takes a snakecase string and replaces it by a camelcase version.'''\n",
    "    return ''.join([word.capitalize() for word in s.split('_')])\n",
    "\n",
    "@functools_mapper\n",
    "def snake_to_camelcase_f(s):\n",
    "    '''Takes a snakecase string and replaces it by a camelcase version.'''\n",
    "    return ''.join([word.capitalize() for word in s.split('_')])"
   ]
  },
  {
   "cell_type": "code",
   "execution_count": 40,
   "metadata": {},
   "outputs": [
    {
     "name": "stdout",
     "output_type": "stream",
     "text": [
      "PLAIN DECORATED:  Inner docstring \n",
      "functools.wrap DECORATED: Takes a snakecase string and replaces it by a camelcase version.\n"
     ]
    }
   ],
   "source": [
    "print('PLAIN DECORATED:', snake_to_camelcase_n.__doc__)\n",
    "print('functools.wrap DECORATED:', snake_to_camelcase_f.__doc__)"
   ]
  },
  {
   "cell_type": "code",
   "execution_count": null,
   "metadata": {},
   "outputs": [],
   "source": []
  }
 ],
 "metadata": {
  "kernelspec": {
   "display_name": "Python 3",
   "language": "python",
   "name": "python3"
  },
  "language_info": {
   "codemirror_mode": {
    "name": "ipython",
    "version": 3
   },
   "file_extension": ".py",
   "mimetype": "text/x-python",
   "name": "python",
   "nbconvert_exporter": "python",
   "pygments_lexer": "ipython3",
   "version": "3.7.1"
  }
 },
 "nbformat": 4,
 "nbformat_minor": 2
}
